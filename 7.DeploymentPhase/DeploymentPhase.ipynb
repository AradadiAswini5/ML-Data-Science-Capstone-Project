{
 "cells": [
  {
   "cell_type": "code",
   "execution_count": 4,
   "id": "91bc1e51-ad2b-43dc-9a75-f4d9b90397c5",
   "metadata": {},
   "outputs": [],
   "source": [
    "import pickle"
   ]
  },
  {
   "cell_type": "code",
   "execution_count": 5,
   "id": "6a90fb92-5c1b-4a2e-bc83-1b8fcb4699c5",
   "metadata": {},
   "outputs": [],
   "source": [
    "loaded_model=pickle.load(open(\"finalized_model_RandomForest.sav\",'rb'))\n",
    "# Load the saved label encoder\n",
    "with open(\"target_label_encoder.pkl\", \"rb\") as f:\n",
    "    target_le = pickle.load(f)\n",
    "result=loaded_model.predict([[1,0,10,3,1,2,1,0.5]]) \n",
    "decoded_result = target_le.inverse_transform(result)"
   ]
  },
  {
   "cell_type": "code",
   "execution_count": 7,
   "id": "59e7e9cd-cb39-4f2b-afd5-a6a5147f62bb",
   "metadata": {},
   "outputs": [
    {
     "name": "stdout",
     "output_type": "stream",
     "text": [
      "['Education/ Exam Preparation']\n"
     ]
    }
   ],
   "source": [
    "print(decoded_result)"
   ]
  },
  {
   "cell_type": "code",
   "execution_count": null,
   "id": "2e6f1487-076a-4ffa-9ea9-c20982b580c4",
   "metadata": {},
   "outputs": [],
   "source": []
  }
 ],
 "metadata": {
  "kernelspec": {
   "display_name": "Python 3 (ipykernel)",
   "language": "python",
   "name": "python3"
  },
  "language_info": {
   "codemirror_mode": {
    "name": "ipython",
    "version": 3
   },
   "file_extension": ".py",
   "mimetype": "text/x-python",
   "name": "python",
   "nbconvert_exporter": "python",
   "pygments_lexer": "ipython3",
   "version": "3.12.9"
  }
 },
 "nbformat": 4,
 "nbformat_minor": 5
}
