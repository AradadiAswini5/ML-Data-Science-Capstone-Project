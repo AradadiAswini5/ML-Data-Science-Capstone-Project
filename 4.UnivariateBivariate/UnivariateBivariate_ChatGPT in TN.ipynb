{
 "cells": [
  {
   "cell_type": "code",
   "execution_count": 1,
   "id": "874b9cc7-6155-4f14-a48b-c530cb9ccb5e",
   "metadata": {},
   "outputs": [],
   "source": [
    "import pandas as pd\n",
    "import numpy as np"
   ]
  },
  {
   "cell_type": "code",
   "execution_count": 2,
   "id": "e62569ac-64d1-4e59-9952-34d1544bd768",
   "metadata": {},
   "outputs": [
    {
     "data": {
      "text/html": [
       "<div>\n",
       "<style scoped>\n",
       "    .dataframe tbody tr th:only-of-type {\n",
       "        vertical-align: middle;\n",
       "    }\n",
       "\n",
       "    .dataframe tbody tr th {\n",
       "        vertical-align: top;\n",
       "    }\n",
       "\n",
       "    .dataframe thead th {\n",
       "        text-align: right;\n",
       "    }\n",
       "</style>\n",
       "<table border=\"1\" class=\"dataframe\">\n",
       "  <thead>\n",
       "    <tr style=\"text-align: right;\">\n",
       "      <th></th>\n",
       "      <th>Age</th>\n",
       "      <th>Gender</th>\n",
       "      <th>District</th>\n",
       "      <th>Occupation</th>\n",
       "      <th>Usage Frequency</th>\n",
       "      <th>Main Purpose</th>\n",
       "      <th>Language Used</th>\n",
       "      <th>User Rating</th>\n",
       "      <th>Education Level</th>\n",
       "      <th>Actions Taken</th>\n",
       "      <th>Device Used</th>\n",
       "      <th>Time Spent Hours</th>\n",
       "    </tr>\n",
       "  </thead>\n",
       "  <tbody>\n",
       "    <tr>\n",
       "      <th>0</th>\n",
       "      <td>25</td>\n",
       "      <td>1</td>\n",
       "      <td>0</td>\n",
       "      <td>10</td>\n",
       "      <td>3.0</td>\n",
       "      <td>3</td>\n",
       "      <td>1</td>\n",
       "      <td>5</td>\n",
       "      <td>2.0</td>\n",
       "      <td>1</td>\n",
       "      <td>3</td>\n",
       "      <td>0.5</td>\n",
       "    </tr>\n",
       "    <tr>\n",
       "      <th>1</th>\n",
       "      <td>28</td>\n",
       "      <td>1</td>\n",
       "      <td>8</td>\n",
       "      <td>4</td>\n",
       "      <td>3.0</td>\n",
       "      <td>4</td>\n",
       "      <td>1</td>\n",
       "      <td>5</td>\n",
       "      <td>3.0</td>\n",
       "      <td>1</td>\n",
       "      <td>1</td>\n",
       "      <td>3.5</td>\n",
       "    </tr>\n",
       "    <tr>\n",
       "      <th>2</th>\n",
       "      <td>48</td>\n",
       "      <td>0</td>\n",
       "      <td>0</td>\n",
       "      <td>3</td>\n",
       "      <td>3.0</td>\n",
       "      <td>1</td>\n",
       "      <td>2</td>\n",
       "      <td>5</td>\n",
       "      <td>0.0</td>\n",
       "      <td>1</td>\n",
       "      <td>3</td>\n",
       "      <td>0.5</td>\n",
       "    </tr>\n",
       "    <tr>\n",
       "      <th>3</th>\n",
       "      <td>54</td>\n",
       "      <td>1</td>\n",
       "      <td>0</td>\n",
       "      <td>1</td>\n",
       "      <td>3.0</td>\n",
       "      <td>0</td>\n",
       "      <td>2</td>\n",
       "      <td>5</td>\n",
       "      <td>0.0</td>\n",
       "      <td>1</td>\n",
       "      <td>3</td>\n",
       "      <td>0.5</td>\n",
       "    </tr>\n",
       "    <tr>\n",
       "      <th>4</th>\n",
       "      <td>27</td>\n",
       "      <td>0</td>\n",
       "      <td>12</td>\n",
       "      <td>6</td>\n",
       "      <td>3.0</td>\n",
       "      <td>4</td>\n",
       "      <td>0</td>\n",
       "      <td>5</td>\n",
       "      <td>2.0</td>\n",
       "      <td>1</td>\n",
       "      <td>3</td>\n",
       "      <td>0.5</td>\n",
       "    </tr>\n",
       "    <tr>\n",
       "      <th>...</th>\n",
       "      <td>...</td>\n",
       "      <td>...</td>\n",
       "      <td>...</td>\n",
       "      <td>...</td>\n",
       "      <td>...</td>\n",
       "      <td>...</td>\n",
       "      <td>...</td>\n",
       "      <td>...</td>\n",
       "      <td>...</td>\n",
       "      <td>...</td>\n",
       "      <td>...</td>\n",
       "      <td>...</td>\n",
       "    </tr>\n",
       "    <tr>\n",
       "      <th>105</th>\n",
       "      <td>17</td>\n",
       "      <td>0</td>\n",
       "      <td>3</td>\n",
       "      <td>10</td>\n",
       "      <td>2.0</td>\n",
       "      <td>3</td>\n",
       "      <td>1</td>\n",
       "      <td>4</td>\n",
       "      <td>0.0</td>\n",
       "      <td>0</td>\n",
       "      <td>3</td>\n",
       "      <td>0.5</td>\n",
       "    </tr>\n",
       "    <tr>\n",
       "      <th>106</th>\n",
       "      <td>18</td>\n",
       "      <td>1</td>\n",
       "      <td>17</td>\n",
       "      <td>0</td>\n",
       "      <td>1.0</td>\n",
       "      <td>3</td>\n",
       "      <td>1</td>\n",
       "      <td>3</td>\n",
       "      <td>1.0</td>\n",
       "      <td>1</td>\n",
       "      <td>3</td>\n",
       "      <td>0.5</td>\n",
       "    </tr>\n",
       "    <tr>\n",
       "      <th>107</th>\n",
       "      <td>28</td>\n",
       "      <td>0</td>\n",
       "      <td>8</td>\n",
       "      <td>2</td>\n",
       "      <td>0.0</td>\n",
       "      <td>5</td>\n",
       "      <td>1</td>\n",
       "      <td>5</td>\n",
       "      <td>2.0</td>\n",
       "      <td>0</td>\n",
       "      <td>3</td>\n",
       "      <td>0.5</td>\n",
       "    </tr>\n",
       "    <tr>\n",
       "      <th>108</th>\n",
       "      <td>28</td>\n",
       "      <td>0</td>\n",
       "      <td>12</td>\n",
       "      <td>3</td>\n",
       "      <td>0.0</td>\n",
       "      <td>3</td>\n",
       "      <td>1</td>\n",
       "      <td>2</td>\n",
       "      <td>2.0</td>\n",
       "      <td>0</td>\n",
       "      <td>3</td>\n",
       "      <td>0.5</td>\n",
       "    </tr>\n",
       "    <tr>\n",
       "      <th>109</th>\n",
       "      <td>28</td>\n",
       "      <td>1</td>\n",
       "      <td>12</td>\n",
       "      <td>4</td>\n",
       "      <td>3.0</td>\n",
       "      <td>1</td>\n",
       "      <td>3</td>\n",
       "      <td>5</td>\n",
       "      <td>3.0</td>\n",
       "      <td>1</td>\n",
       "      <td>3</td>\n",
       "      <td>3.5</td>\n",
       "    </tr>\n",
       "  </tbody>\n",
       "</table>\n",
       "<p>110 rows × 12 columns</p>\n",
       "</div>"
      ],
      "text/plain": [
       "     Age  Gender  District  Occupation  Usage Frequency  Main Purpose  \\\n",
       "0     25       1         0          10              3.0             3   \n",
       "1     28       1         8           4              3.0             4   \n",
       "2     48       0         0           3              3.0             1   \n",
       "3     54       1         0           1              3.0             0   \n",
       "4     27       0        12           6              3.0             4   \n",
       "..   ...     ...       ...         ...              ...           ...   \n",
       "105   17       0         3          10              2.0             3   \n",
       "106   18       1        17           0              1.0             3   \n",
       "107   28       0         8           2              0.0             5   \n",
       "108   28       0        12           3              0.0             3   \n",
       "109   28       1        12           4              3.0             1   \n",
       "\n",
       "     Language Used  User Rating  Education Level  Actions Taken  Device Used  \\\n",
       "0                1            5              2.0              1            3   \n",
       "1                1            5              3.0              1            1   \n",
       "2                2            5              0.0              1            3   \n",
       "3                2            5              0.0              1            3   \n",
       "4                0            5              2.0              1            3   \n",
       "..             ...          ...              ...            ...          ...   \n",
       "105              1            4              0.0              0            3   \n",
       "106              1            3              1.0              1            3   \n",
       "107              1            5              2.0              0            3   \n",
       "108              1            2              2.0              0            3   \n",
       "109              3            5              3.0              1            3   \n",
       "\n",
       "     Time Spent Hours  \n",
       "0                 0.5  \n",
       "1                 3.5  \n",
       "2                 0.5  \n",
       "3                 0.5  \n",
       "4                 0.5  \n",
       "..                ...  \n",
       "105               0.5  \n",
       "106               0.5  \n",
       "107               0.5  \n",
       "108               0.5  \n",
       "109               3.5  \n",
       "\n",
       "[110 rows x 12 columns]"
      ]
     },
     "execution_count": 2,
     "metadata": {},
     "output_type": "execute_result"
    }
   ],
   "source": [
    "dataset=pd.read_csv(\"Preprocessed Tamil Nadu ChatGPT Data.csv\")\n",
    "dataset"
   ]
  },
  {
   "cell_type": "code",
   "execution_count": 3,
   "id": "7be5056f-c837-4a5b-837b-518bd1508f3e",
   "metadata": {},
   "outputs": [
    {
     "data": {
      "text/plain": [
       "Index(['Age', 'Gender', 'District', 'Occupation', 'Usage Frequency',\n",
       "       'Main Purpose', 'Language Used', 'User Rating', 'Education Level',\n",
       "       'Actions Taken', 'Device Used', 'Time Spent Hours'],\n",
       "      dtype='object')"
      ]
     },
     "execution_count": 3,
     "metadata": {},
     "output_type": "execute_result"
    }
   ],
   "source": [
    "dataset.columns"
   ]
  },
  {
   "cell_type": "markdown",
   "id": "3e23bdc4-5aa1-4f12-b34e-ddddf7d73194",
   "metadata": {},
   "source": [
    "<span style=\"color: red; font-size: 20px;\">Central Tendency</span>"
   ]
  },
  {
   "cell_type": "code",
   "execution_count": 4,
   "id": "d6500d99-5ba1-45c1-ac72-ff13ba05c8cf",
   "metadata": {},
   "outputs": [],
   "source": [
    "descriptive=pd.DataFrame(index=[\"Mean\",\"Median\",\"Mode\"])\n",
    "#numerical columns\n",
    "num_cols = ['Age', 'User Rating', 'Time Spent Hours']\n",
    "for col in num_cols:\n",
    "    mean_val = dataset[col].mean()\n",
    "    median_val = dataset[col].median()\n",
    "    mode_val = dataset[col].mode()[0]\n",
    "    \n",
    "    descriptive[col] = [mean_val, median_val, mode_val]"
   ]
  },
  {
   "cell_type": "code",
   "execution_count": 5,
   "id": "293163c4-f8e0-4f13-a9c8-21544b3123ae",
   "metadata": {},
   "outputs": [
    {
     "data": {
      "text/html": [
       "<div>\n",
       "<style scoped>\n",
       "    .dataframe tbody tr th:only-of-type {\n",
       "        vertical-align: middle;\n",
       "    }\n",
       "\n",
       "    .dataframe tbody tr th {\n",
       "        vertical-align: top;\n",
       "    }\n",
       "\n",
       "    .dataframe thead th {\n",
       "        text-align: right;\n",
       "    }\n",
       "</style>\n",
       "<table border=\"1\" class=\"dataframe\">\n",
       "  <thead>\n",
       "    <tr style=\"text-align: right;\">\n",
       "      <th></th>\n",
       "      <th>Age</th>\n",
       "      <th>User Rating</th>\n",
       "      <th>Time Spent Hours</th>\n",
       "    </tr>\n",
       "  </thead>\n",
       "  <tbody>\n",
       "    <tr>\n",
       "      <th>Mean</th>\n",
       "      <td>31.172727</td>\n",
       "      <td>4.318182</td>\n",
       "      <td>1.140909</td>\n",
       "    </tr>\n",
       "    <tr>\n",
       "      <th>Median</th>\n",
       "      <td>28.000000</td>\n",
       "      <td>5.000000</td>\n",
       "      <td>0.500000</td>\n",
       "    </tr>\n",
       "    <tr>\n",
       "      <th>Mode</th>\n",
       "      <td>27.000000</td>\n",
       "      <td>5.000000</td>\n",
       "      <td>0.500000</td>\n",
       "    </tr>\n",
       "  </tbody>\n",
       "</table>\n",
       "</div>"
      ],
      "text/plain": [
       "              Age  User Rating  Time Spent Hours\n",
       "Mean    31.172727     4.318182          1.140909\n",
       "Median  28.000000     5.000000          0.500000\n",
       "Mode    27.000000     5.000000          0.500000"
      ]
     },
     "execution_count": 5,
     "metadata": {},
     "output_type": "execute_result"
    }
   ],
   "source": [
    "# Display final table\n",
    "descriptive"
   ]
  },
  {
   "cell_type": "markdown",
   "id": "c8ad166e-91fb-4617-8cd0-fb18bac7ca77",
   "metadata": {},
   "source": [
    "Age (Mean = 31.446429, Median = 28.0, Mode = 27.0 ): \n",
    "The average age of ChatGPT users in Tamil Nadu is around 31 years.\n",
    "The most common and middle ages around 27–28 years. \n",
    "This indicates that young adults form the majority of users, mainly in their late 20s to early 30s.\n",
    "\n",
    "User Rating (Mean = 4.285714, Median = 5, Mode = 5):\n",
    "The average satisfaction rating is 4.3 out of 5.\n",
    "Most users rated ChatGPT 5 stars. \n",
    "This shows high user satisfaction and trust in ChatGPT’s responses and usefulness.\n",
    "\n",
    "Time Spent Hours (Mean = 1.089286, Median = 0.5, Mode = 0.5):\n",
    "On average, users spend about 1 hour per day using ChatGPT. \n",
    "The median and mode being 0.5 hours (≈ 30 minutes) suggest that most users engage briefly but consistently, with a few spending longer durations that slightly increase the mean.\n",
    "\n",
    "Overall Insight:\n",
    "Most ChatGPT users in Tamil Nadu are young adults (~31 years) who rate ChatGPT very highly (mostly 5 stars) and spend around 30 minutes to 1 hour daily using it for various personal or professional purposes."
   ]
  },
  {
   "cell_type": "code",
   "execution_count": 6,
   "id": "a10acad6-41c2-499e-8515-1b787eff150a",
   "metadata": {},
   "outputs": [],
   "source": [
    "descriptive=pd.DataFrame(index=[\"Median\",\"Mode\"])\n",
    "#Ordinal (ordered categories)\n",
    "num_cols = ['Usage Frequency', 'Education Level']\n",
    "for col in num_cols:\n",
    "    median_val = dataset[col].median()\n",
    "    mode_val = dataset[col].mode()[0]\n",
    "    \n",
    "    descriptive[col] = [median_val, mode_val]"
   ]
  },
  {
   "cell_type": "code",
   "execution_count": 7,
   "id": "6b35b06a-8b86-4214-ac27-17a62551e2ae",
   "metadata": {},
   "outputs": [
    {
     "data": {
      "text/html": [
       "<div>\n",
       "<style scoped>\n",
       "    .dataframe tbody tr th:only-of-type {\n",
       "        vertical-align: middle;\n",
       "    }\n",
       "\n",
       "    .dataframe tbody tr th {\n",
       "        vertical-align: top;\n",
       "    }\n",
       "\n",
       "    .dataframe thead th {\n",
       "        text-align: right;\n",
       "    }\n",
       "</style>\n",
       "<table border=\"1\" class=\"dataframe\">\n",
       "  <thead>\n",
       "    <tr style=\"text-align: right;\">\n",
       "      <th></th>\n",
       "      <th>Usage Frequency</th>\n",
       "      <th>Education Level</th>\n",
       "    </tr>\n",
       "  </thead>\n",
       "  <tbody>\n",
       "    <tr>\n",
       "      <th>Median</th>\n",
       "      <td>3.0</td>\n",
       "      <td>2.0</td>\n",
       "    </tr>\n",
       "    <tr>\n",
       "      <th>Mode</th>\n",
       "      <td>3.0</td>\n",
       "      <td>2.0</td>\n",
       "    </tr>\n",
       "  </tbody>\n",
       "</table>\n",
       "</div>"
      ],
      "text/plain": [
       "        Usage Frequency  Education Level\n",
       "Median              3.0              2.0\n",
       "Mode                3.0              2.0"
      ]
     },
     "execution_count": 7,
     "metadata": {},
     "output_type": "execute_result"
    }
   ],
   "source": [
    "descriptive"
   ]
  },
  {
   "cell_type": "markdown",
   "id": "3b35d733-fbdb-411c-992d-80dabd65ca45",
   "metadata": {},
   "source": [
    "Usage Frequency (Median & Mode: 3.0): \n",
    "The median and mode both being 3 indicate that most users use ChatGPT frequently (likely “Daily” or “More than 1 Hour” depending on your scale). \n",
    "This shows high engagement levels and regular dependency on AI tools.\n",
    "\n",
    "Education Level\t(Median & Mode: 2.0):\t\n",
    "The median and mode of 2 suggest that most users are graduates or postgraduates, representing a well-educated audience with strong digital literacy and professional or academic interest in ChatGPT.\n",
    "\n",
    "Overall Insight:\n",
    "The typical ChatGPT user in Tamil Nadu is a well-educated graduate or postgraduate who uses ChatGPT frequently (daily or several hours per week) — indicating strong awareness and consistent adoption of AI tools."
   ]
  },
  {
   "cell_type": "code",
   "execution_count": 8,
   "id": "ef19c661-7a79-4183-872e-2943ad7232a9",
   "metadata": {},
   "outputs": [],
   "source": [
    "descriptive=pd.DataFrame(index=[\"Mode\"])\n",
    "#Nominal (no order)\n",
    "num_cols = ['Gender', 'Language Used', 'Device Used', 'Actions Taken']\n",
    "for col in num_cols:\n",
    "    mode_val = dataset[col].mode()[0]\n",
    "    \n",
    "    descriptive[col] = [mode_val]"
   ]
  },
  {
   "cell_type": "code",
   "execution_count": 9,
   "id": "ab1686df-fd04-4e5f-80cf-595fac64bb77",
   "metadata": {},
   "outputs": [
    {
     "data": {
      "text/html": [
       "<div>\n",
       "<style scoped>\n",
       "    .dataframe tbody tr th:only-of-type {\n",
       "        vertical-align: middle;\n",
       "    }\n",
       "\n",
       "    .dataframe tbody tr th {\n",
       "        vertical-align: top;\n",
       "    }\n",
       "\n",
       "    .dataframe thead th {\n",
       "        text-align: right;\n",
       "    }\n",
       "</style>\n",
       "<table border=\"1\" class=\"dataframe\">\n",
       "  <thead>\n",
       "    <tr style=\"text-align: right;\">\n",
       "      <th></th>\n",
       "      <th>Gender</th>\n",
       "      <th>Language Used</th>\n",
       "      <th>Device Used</th>\n",
       "      <th>Actions Taken</th>\n",
       "    </tr>\n",
       "  </thead>\n",
       "  <tbody>\n",
       "    <tr>\n",
       "      <th>Mode</th>\n",
       "      <td>0</td>\n",
       "      <td>1</td>\n",
       "      <td>3</td>\n",
       "      <td>1</td>\n",
       "    </tr>\n",
       "  </tbody>\n",
       "</table>\n",
       "</div>"
      ],
      "text/plain": [
       "      Gender  Language Used  Device Used  Actions Taken\n",
       "Mode       0              1            3              1"
      ]
     },
     "execution_count": 9,
     "metadata": {},
     "output_type": "execute_result"
    }
   ],
   "source": [
    "descriptive"
   ]
  },
  {
   "cell_type": "markdown",
   "id": "8ffbcf79-e6f1-46a5-a66b-4f399cfc8db9",
   "metadata": {},
   "source": [
    "Gender (Mode: 0)\n",
    "Female (if 0 = Female, 1 = Male)\n",
    "The mode value of 0 indicates that female users form the majority among ChatGPT users in Tamil Nadu.\n",
    "\n",
    "Language Used (Mode: 1)\t\n",
    "English (if 0 = Tamil, 1 = English)\t\n",
    "A mode of 1 shows that most users primarily use ChatGPT in English\n",
    "Suggesting that English is preferred for AI communication even in regional contexts.\n",
    "\n",
    "Device Used\t(Mode: 2)\t\n",
    "Mobile (if 0 = Laptop, 1 = Desktop, 2 = Mobile)\t\n",
    "The mode value of 2 implies that mobile devices are the most common way users access ChatGPT, highlighting convenience and accessibility.\n",
    "\n",
    "Actions Taken (Mode: 1)\t\n",
    "Yes (if 1 = Took action)\t\n",
    "A mode of 1 indicates that most users acted on ChatGPT’s suggestions, showing trust and real-world reliance on AI outputs.\n",
    "\n",
    "Overall Insight\n",
    "\n",
    "Majority of ChatGPT users in Tamil Nadu are female, English-speaking, and mobile users, primarily using ChatGPT for education or work-related purposes. Most of them take real actions based on ChatGPT’s responses, showing strong adoption and trust in AI tools."
   ]
  },
  {
   "cell_type": "markdown",
   "id": "3d032a43-243e-46e4-a9c8-9330efad5248",
   "metadata": {},
   "source": [
    "<span style=\"color: red; font-size: 20px;\">Percentile, IQR, Outliers, Kurtosis & Skewness</span>"
   ]
  },
  {
   "cell_type": "code",
   "execution_count": 10,
   "id": "f725f8f8-441d-45d6-81be-935258d4028e",
   "metadata": {},
   "outputs": [],
   "source": [
    "descriptive=pd.DataFrame(index=[\"Mean\",\"Median\",\"Mode\",\"Q1:25%\",\"Q2:50%\",\n",
    "                               \"Q3:75%\", \"Q4:100%\",\"IQR\",\"1.5rule\",\"Lesser\",\"Greater\",\"Min\",\"Max\", \"kurtosis\",\"skew\"])\n",
    "num_cols = ['Age', 'User Rating', 'Time Spent Hours']\n",
    "for col in num_cols:\n",
    "    mean_val = dataset[col].mean()\n",
    "    median_val = dataset[col].median()\n",
    "    mode_val = dataset[col].mode()[0]\n",
    "    q1 = dataset[col].quantile(0.25)\n",
    "    q2 = dataset[col].quantile(0.50)\n",
    "    q3 = dataset[col].quantile(0.75)\n",
    "#q99 = dataset[col].quantile(0.99)\n",
    "    q4 = dataset[col].quantile(1.00)\n",
    "    iqr = q3 - q1\n",
    "    rule_1_5 = 1.5 * iqr\n",
    "    lesser = q1 - rule_1_5\n",
    "    greater = q3 + rule_1_5\n",
    "    min_val = dataset[col].min()\n",
    "    max_val = dataset[col].max()\n",
    "    kurtosis_val = dataset[col].kurtosis()\n",
    "    skew_val = dataset[col].skew()\n",
    "    \n",
    "    # Fill the summary table\n",
    "    descriptive[col] = [mean_val, median_val, mode_val, q1, q2, q3, q4, iqr, rule_1_5, lesser, greater, min_val, max_val, kurtosis_val, skew_val]\n",
    "\n"
   ]
  },
  {
   "cell_type": "code",
   "execution_count": 11,
   "id": "a45def70-3c27-44fc-b195-6dfb0529db05",
   "metadata": {},
   "outputs": [
    {
     "name": "stdout",
     "output_type": "stream",
     "text": [
      "            Age  User Rating  Time Spent Hours\n",
      "Mean      31.17         4.32              1.14\n",
      "Median    28.00         5.00              0.50\n",
      "Mode      27.00         5.00              0.50\n",
      "Q1:25%    27.00         4.00              0.50\n",
      "Q2:50%    28.00         5.00              0.50\n",
      "Q3:75%    34.75         5.00              1.50\n",
      "Q4:100%   59.00         5.00              3.50\n",
      "IQR        7.75         1.00              1.00\n",
      "1.5rule   11.62         1.50              1.50\n",
      "Lesser    15.38         2.50             -1.00\n",
      "Greater   46.38         6.50              3.00\n",
      "Min       17.00         1.00              0.50\n",
      "Max       59.00         5.00              3.50\n",
      "kurtosis   0.87         1.80              0.86\n",
      "skew       0.98        -1.48              1.48\n"
     ]
    }
   ],
   "source": [
    "# Round values for cleaner view\n",
    "descriptive = descriptive.round(2)\n",
    "# Display the summary\n",
    "print(descriptive)"
   ]
  },
  {
   "cell_type": "markdown",
   "id": "288fc124-5699-4588-8636-77c54eb0d1b1",
   "metadata": {},
   "source": [
    "Age: The mean (31.17) is higher than the median (28.00), and the skewness is positive (0.98), indicating the presence of older individuals skewing the data to the right. The minimum age is 17.00, and the maximum is 59.00, with a wide IQR of 7.75.\n",
    "\n",
    "User Rating: The mode (5.00) is the highest value, and the mean (4.32) is lower than the median (5.00), with a negative skewness (-1.48). This suggests that most users give high ratings. The minimum rating of 1.00 is a possible outlier.\n",
    "\n",
    "Time Spent (Hours): The mean (1.14) is much higher than the median and mode (both 0.50), and the skewness is highly positive (1.48). This indicates that a few users spend a much greater amount of time than the majority. The maximum time of 3.50 is likely an outlier."
   ]
  },
  {
   "cell_type": "markdown",
   "id": "7ac71478-bff2-4a90-8646-2c8e8b390f1f",
   "metadata": {},
   "source": [
    "<span style=\"color: red; font-size: 20px;\">Frequency</span>"
   ]
  },
  {
   "cell_type": "code",
   "execution_count": 12,
   "id": "be2e5961-7738-4af3-8782-a731093e92de",
   "metadata": {},
   "outputs": [],
   "source": [
    "def freqTable(columnName, dataset):\n",
    "    # Create empty DataFrame with columns\n",
    "    freqTable = pd.DataFrame(columns=[\"Unique_Values\", \"Frequency\", \"Relative Frequency\", \"Cumulative Frequency\"])\n",
    "    \n",
    "    # Calculate frequency\n",
    "    value_counts = dataset[columnName].value_counts()\n",
    "    \n",
    "    # Fill the table\n",
    "    freqTable[\"Unique_Values\"] = value_counts.index\n",
    "    freqTable[\"Frequency\"] = value_counts.values\n",
    "    \n",
    "    # Relative frequency (auto total count instead of hardcoding 103)\n",
    "    freqTable[\"Relative Frequency\"] = (freqTable[\"Frequency\"] / len(dataset)).round(4)\n",
    "    \n",
    "    # Cumulative sum\n",
    "    freqTable[\"Cumulative Frequency\"] = freqTable[\"Relative Frequency\"].cumsum().round(4)\n",
    "    \n",
    "    return freqTable"
   ]
  },
  {
   "cell_type": "code",
   "execution_count": 13,
   "id": "ce267707-26e6-4b6c-b723-14eab7f48e31",
   "metadata": {},
   "outputs": [
    {
     "data": {
      "text/html": [
       "<div>\n",
       "<style scoped>\n",
       "    .dataframe tbody tr th:only-of-type {\n",
       "        vertical-align: middle;\n",
       "    }\n",
       "\n",
       "    .dataframe tbody tr th {\n",
       "        vertical-align: top;\n",
       "    }\n",
       "\n",
       "    .dataframe thead th {\n",
       "        text-align: right;\n",
       "    }\n",
       "</style>\n",
       "<table border=\"1\" class=\"dataframe\">\n",
       "  <thead>\n",
       "    <tr style=\"text-align: right;\">\n",
       "      <th></th>\n",
       "      <th>Unique_Values</th>\n",
       "      <th>Frequency</th>\n",
       "      <th>Relative Frequency</th>\n",
       "      <th>Cumulative Frequency</th>\n",
       "    </tr>\n",
       "  </thead>\n",
       "  <tbody>\n",
       "    <tr>\n",
       "      <th>0</th>\n",
       "      <td>3</td>\n",
       "      <td>84</td>\n",
       "      <td>0.7636</td>\n",
       "      <td>0.7636</td>\n",
       "    </tr>\n",
       "    <tr>\n",
       "      <th>1</th>\n",
       "      <td>1</td>\n",
       "      <td>20</td>\n",
       "      <td>0.1818</td>\n",
       "      <td>0.9454</td>\n",
       "    </tr>\n",
       "    <tr>\n",
       "      <th>2</th>\n",
       "      <td>2</td>\n",
       "      <td>2</td>\n",
       "      <td>0.0182</td>\n",
       "      <td>0.9636</td>\n",
       "    </tr>\n",
       "    <tr>\n",
       "      <th>3</th>\n",
       "      <td>4</td>\n",
       "      <td>2</td>\n",
       "      <td>0.0182</td>\n",
       "      <td>0.9818</td>\n",
       "    </tr>\n",
       "    <tr>\n",
       "      <th>4</th>\n",
       "      <td>0</td>\n",
       "      <td>2</td>\n",
       "      <td>0.0182</td>\n",
       "      <td>1.0000</td>\n",
       "    </tr>\n",
       "  </tbody>\n",
       "</table>\n",
       "</div>"
      ],
      "text/plain": [
       "   Unique_Values  Frequency  Relative Frequency  Cumulative Frequency\n",
       "0              3         84              0.7636                0.7636\n",
       "1              1         20              0.1818                0.9454\n",
       "2              2          2              0.0182                0.9636\n",
       "3              4          2              0.0182                0.9818\n",
       "4              0          2              0.0182                1.0000"
      ]
     },
     "execution_count": 13,
     "metadata": {},
     "output_type": "execute_result"
    }
   ],
   "source": [
    "freqTable(\"Device Used\", dataset)"
   ]
  },
  {
   "cell_type": "markdown",
   "id": "3be17ca3-f164-4b1f-8d6a-c7d7e52ef7b6",
   "metadata": {},
   "source": [
    "The dataset is highly skewed, with the unique value '3' being overwhelmingly dominant.\n",
    "Most Common Value: The value '3' appears 84 times, representing about 76% of the dataset.\n",
    "Other Values: The values '1', '2', '4', and '0' are significantly less common, appearing only a handful of times combined.\n",
    "Mode: The mode of this dataset is '3'."
   ]
  },
  {
   "cell_type": "markdown",
   "id": "e179e11e-f45f-4d13-9eb4-6d8f53360903",
   "metadata": {},
   "source": [
    "<span style=\"color: red; font-size: 20px;\">Histogram</span>"
   ]
  },
  {
   "cell_type": "code",
   "execution_count": 14,
   "id": "0964e217-a26e-452b-a37b-06c50cbe6efe",
   "metadata": {},
   "outputs": [
    {
     "data": {
      "image/png": "[encoded data removed]",
      "text/plain": [
       "<Figure size 700x400 with 1 Axes>"
      ]
     },
     "metadata": {},
     "output_type": "display_data"
    },
    {
     "data": {
      "image/png": "[encoded data removed]",
      "text/plain": [
       "<Figure size 700x400 with 1 Axes>"
      ]
     },
     "metadata": {},
     "output_type": "display_data"
    },
    {
     "data": {
      "image/png": "[encoded data removed]",
      "text/plain": [
       "<Figure size 700x400 with 1 Axes>"
      ]
     },
     "metadata": {},
     "output_type": "display_data"
    }
   ],
   "source": [
    "import matplotlib.pyplot as plt\n",
    "num_cols = ['Age', 'User Rating', 'Time Spent Hours']\n",
    "\n",
    "for col in num_cols:\n",
    "    plt.figure(figsize=(7,4))\n",
    "    plt.hist(dataset[col], bins=10, color='skyblue', edgecolor='black', alpha=0.7)\n",
    "    plt.title(f\"Histogram of {col}\")\n",
    "    plt.xlabel(col)\n",
    "    plt.ylabel(\"Frequency\")\n",
    "    plt.grid(axis='y', linestyle='--', alpha=0.7)\n",
    "    plt.show()"
   ]
  },
  {
   "cell_type": "markdown",
   "id": "9230a30b-3adc-4a0d-965f-64c6e9a397b4",
   "metadata": {},
   "source": [
    "Age: The age distribution is positively skewed, indicating that most individuals are clustered in the younger age brackets.\n",
    "while a smaller number of individuals are significantly older. \n",
    "The most frequent age group is between approximately 26 and 30 years old, with frequencies decreasing for both younger and older groups.\n",
    "\n",
    "User Rating: The user rating data is negatively skewed, with the majority of ratings being high. \n",
    "The most frequent rating is between 4.5 and 5.0. There is a sharp drop-off in frequency for lower ratings, suggesting that most users are satisfied, with only a small number giving low ratings.\n",
    "\n",
    "Time Spent Hours: The time spent data is highly positively skewed. \n",
    "The majority of individuals spend a short amount of time, with the most frequent interval being between 0.5 and 1.0 hours. \n",
    "There is a long tail extending to the right, indicating that a small number of individuals spend a much greater amount of time."
   ]
  },
  {
   "cell_type": "markdown",
   "id": "da21dfa4-b369-4750-88b0-9124d6775341",
   "metadata": {},
   "source": [
    "<span style=\"color: red; font-size: 20px;\">Normal Distribution & Standard Normal Distribution</span>"
   ]
  },
  {
   "cell_type": "code",
   "execution_count": 15,
   "id": "26a36f8c-c68e-43ce-9d1f-63071c28665f",
   "metadata": {},
   "outputs": [],
   "source": [
    "import seaborn as sns\n",
    "def get_pdf_probability(dataset,startrange,endrange):\n",
    "    from matplotlib import pyplot\n",
    "    from scipy.stats import norm\n",
    "    import seaborn as sns\n",
    "    ax = sns.distplot(dataset,kde=True,kde_kws={'color':'blue'},color='Green')\n",
    "    pyplot.axvline(startrange,color='Red')\n",
    "    pyplot.axvline(endrange,color='Red')\n",
    "    # generate a sample\n",
    "    sample = dataset\n",
    "    # calculate parameters\n",
    "    sample_mean =sample.mean()\n",
    "    sample_std = sample.std()\n",
    "    print('Mean=%.3f, Standard Deviation=%.3f' % (sample_mean, sample_std))\n",
    "    # define the distribution\n",
    "    dist = norm(sample_mean, sample_std)\n",
    "    \n",
    "    # sample probabilities for a range of outcomes\n",
    "    values = [value for value in range(startrange, endrange)]\n",
    "    probabilities = [dist.pdf(value) for value in values]    \n",
    "    prob=sum(probabilities)\n",
    "    print(\"The area between range({},{}):{}\".format(startrange,endrange,sum(probabilities)))\n",
    "    return prob"
   ]
  },
  {
   "cell_type": "code",
   "execution_count": 16,
   "id": "0a00cf2e-cf87-44fc-9850-4f8e6fc11205",
   "metadata": {},
   "outputs": [
    {
     "name": "stdout",
     "output_type": "stream",
     "text": [
      "Mean=4.318, Standard Deviation=0.918\n",
      "The area between range(40,80):0.0\n"
     ]
    },
    {
     "name": "stderr",
     "output_type": "stream",
     "text": [
      "C:\\Users\\GOWTHAM\\AppData\\Local\\Temp\\ipykernel_12992\\3808921059.py:6: UserWarning: \n",
      "\n",
      "`distplot` is a deprecated function and will be removed in seaborn v0.14.0.\n",
      "\n",
      "Please adapt your code to use either `displot` (a figure-level function with\n",
      "similar flexibility) or `histplot` (an axes-level function for histograms).\n",
      "\n",
      "For a guide to updating your code to use the new functions, please see\n",
      "https://gist.github.com/mwaskom/de44147ed2974457ad6372750bbe5751\n",
      "\n",
      "  ax = sns.distplot(dataset,kde=True,kde_kws={'color':'blue'},color='Green')\n"
     ]
    },
    {
     "data": {
      "text/plain": [
       "0.0"
      ]
     },
     "execution_count": 16,
     "metadata": {},
     "output_type": "execute_result"
    },
    {
     "data": {
      "image/png": "[encoded data removed]",
      "text/plain": [
       "<Figure size 640x480 with 1 Axes>"
      ]
     },
     "metadata": {},
     "output_type": "display_data"
    }
   ],
   "source": [
    "get_pdf_probability(dataset[\"User Rating\"],40,80)"
   ]
  },
  {
   "cell_type": "code",
   "execution_count": 17,
   "id": "8451c573-c66e-42cc-a367-79a9a83af736",
   "metadata": {},
   "outputs": [
    {
     "data": {
      "text/plain": [
       "1.0"
      ]
     },
     "execution_count": 17,
     "metadata": {},
     "output_type": "execute_result"
    }
   ],
   "source": [
    "from statsmodels.distributions.empirical_distribution import ECDF\n",
    "ecdf = ECDF(dataset['User Rating'])\n",
    "ecdf(78)"
   ]
  },
  {
   "cell_type": "code",
   "execution_count": 18,
   "id": "9b690181-ff7c-4ba0-936b-a65115858ff6",
   "metadata": {},
   "outputs": [],
   "source": [
    "def stdNBgraph(dataset):\n",
    "        # Coverted to standard Normal Distribution\n",
    "    import seaborn as sns\n",
    "    mean=dataset.mean()\n",
    "    std=dataset.std()\n",
    "\n",
    "    values=[i for i in dataset]\n",
    "\n",
    "    z_score=[((j-mean)/std) for j in values]\n",
    "\n",
    "    sns.distplot(z_score,kde=True)\n",
    "\n",
    "    sum(z_score)/len(z_score)\n",
    "    #z_score.std()"
   ]
  },
  {
   "cell_type": "code",
   "execution_count": 19,
   "id": "1bb5c3e4-9bc7-4cd8-a516-6b8433631a32",
   "metadata": {},
   "outputs": [
    {
     "name": "stderr",
     "output_type": "stream",
     "text": [
      "C:\\Users\\GOWTHAM\\AppData\\Local\\Temp\\ipykernel_12992\\4109782476.py:11: UserWarning: \n",
      "\n",
      "`distplot` is a deprecated function and will be removed in seaborn v0.14.0.\n",
      "\n",
      "Please adapt your code to use either `displot` (a figure-level function with\n",
      "similar flexibility) or `histplot` (an axes-level function for histograms).\n",
      "\n",
      "For a guide to updating your code to use the new functions, please see\n",
      "https://gist.github.com/mwaskom/de44147ed2974457ad6372750bbe5751\n",
      "\n",
      "  sns.distplot(z_score,kde=True)\n"
     ]
    },
    {
     "data": {
      "image/png": "[encoded data removed]",
      "text/plain": [
       "<Figure size 640x480 with 1 Axes>"
      ]
     },
     "metadata": {},
     "output_type": "display_data"
    }
   ],
   "source": [
    "stdNBgraph(dataset[\"Age\"])"
   ]
  },
  {
   "cell_type": "markdown",
   "id": "97f6b7a4-4852-46cd-a994-2c896407092a",
   "metadata": {},
   "source": [
    "<span style=\"color: red; font-size: 20px;\">Cumulative Distribution Function</span>"
   ]
  },
  {
   "cell_type": "code",
   "execution_count": 20,
   "id": "61150322-ac51-4104-8dbe-c4d6234ca9b1",
   "metadata": {},
   "outputs": [
    {
     "data": {
      "image/png": "[encoded data removed]",
      "text/plain": [
       "<Figure size 700x400 with 1 Axes>"
      ]
     },
     "metadata": {},
     "output_type": "display_data"
    },
    {
     "data": {
      "image/png": "[encoded data removed]",
      "text/plain": [
       "<Figure size 700x400 with 1 Axes>"
      ]
     },
     "metadata": {},
     "output_type": "display_data"
    },
    {
     "data": {
      "image/png": "[encoded data removed]",
      "text/plain": [
       "<Figure size 700x400 with 1 Axes>"
      ]
     },
     "metadata": {},
     "output_type": "display_data"
    }
   ],
   "source": [
    "for col in num_cols:\n",
    "    plt.figure(figsize=(7,4))\n",
    "    sorted_data = np.sort(dataset[col].dropna())\n",
    "    cdf = np.arange(1, len(sorted_data)+1) / len(sorted_data)\n",
    "    plt.plot(sorted_data, cdf, color='blue', linewidth=2)\n",
    "    plt.title(f\"Cumulative Distribution Function - {col}\")\n",
    "    plt.xlabel(col)\n",
    "    plt.ylabel(\"Cumulative Probability\")\n",
    "    plt.grid(True, linestyle='--', alpha=0.6)\n",
    "    plt.show()"
   ]
  },
  {
   "cell_type": "markdown",
   "id": "cf1e2b91-0dbc-4377-b93b-20bce3b5d414",
   "metadata": {},
   "source": [
    "Age: The median age is the age at which the cumulative probability is 0.50 (50%). \n",
    "Based on the graph, the median age is approximately 28 years old.\n",
    "\n",
    "User Rating: Based on graph, more than 50% of users gave 4 to 5 rating\n",
    "\n",
    "TimeSpent Hours: Based on graph, more than 80% of users spending 0.5 to 1.5 hours per day."
   ]
  },
  {
   "cell_type": "markdown",
   "id": "e41a363b-1c93-4d15-be48-049b41311d03",
   "metadata": {},
   "source": [
    "<span style=\"color: red; font-size: 20px;\">Probability Density Function</span>"
   ]
  },
  {
   "cell_type": "code",
   "execution_count": 21,
   "id": "f7ff7fea-0c02-4abe-bbbe-861dcce0dcb7",
   "metadata": {},
   "outputs": [
    {
     "data": {
      "image/png": "[encoded data removed]",
      "text/plain": [
       "<Figure size 700x400 with 1 Axes>"
      ]
     },
     "metadata": {},
     "output_type": "display_data"
    },
    {
     "data": {
      "image/png": "[encoded data removed]",
      "text/plain": [
       "<Figure size 700x400 with 1 Axes>"
      ]
     },
     "metadata": {},
     "output_type": "display_data"
    },
    {
     "data": {
      "image/png": "[encoded data removed]",
      "text/plain": [
       "<Figure size 700x400 with 1 Axes>"
      ]
     },
     "metadata": {},
     "output_type": "display_data"
    }
   ],
   "source": [
    "from scipy.stats import norm\n",
    "\n",
    "for col in num_cols:\n",
    "    plt.figure(figsize=(7,4))\n",
    "    # Plot histogram as density\n",
    "    count, bins, ignored = plt.hist(dataset[col], bins=15, density=True, color='lightgray', edgecolor='black', alpha=0.6)\n",
    "    \n",
    "    # Fit normal curve\n",
    "    mu, sigma = norm.fit(dataset[col].dropna())\n",
    "    pdf = norm.pdf(bins, mu, sigma)\n",
    "    \n",
    "    # Plot PDF\n",
    "    plt.plot(bins, pdf, color='red', linewidth=2, label='PDF (Normal Fit)')\n",
    "    plt.title(f\"Probability Density Function - {col}\")\n",
    "    plt.xlabel(col)\n",
    "    plt.ylabel(\"Density\")\n",
    "    plt.legend()\n",
    "    plt.show()"
   ]
  },
  {
   "cell_type": "markdown",
   "id": "4069f2d9-622f-4a90-bc3d-81b230c30326",
   "metadata": {},
   "source": [
    "Age: The majority of the data is concentrated in the younger age groups, particularly around 26-27 years old, which is the tallest bar. \n",
    "\n",
    "User Rating: The majority of the data is concentrated in high rating, particularly around 4.0 & 5.0 rating, which is the tallest bar. \n",
    "\n",
    "Time Spent Hours: The majority of the data is concentrated in half hour, particularly 0.5 hours, which is the tallest bar. "
   ]
  },
  {
   "cell_type": "markdown",
   "id": "4ff42002-822f-43a4-8a9f-5ff3b2fdc979",
   "metadata": {},
   "source": [
    "<span style=\"color: red; font-size: 23px;\">Bivariate</span>"
   ]
  },
  {
   "cell_type": "markdown",
   "id": "3fcb96be-c2ef-4934-a7a6-c9abd57ce2ef",
   "metadata": {},
   "source": [
    "<span style=\"color: red; font-size: 20px;\">Covariance & Correlation</span>"
   ]
  },
  {
   "cell_type": "code",
   "execution_count": 22,
   "id": "d2ddf2a2-2cad-4c94-8353-acea00ca74bd",
   "metadata": {},
   "outputs": [],
   "source": [
    "num_cols = ['Age', 'User Rating', 'Time Spent Hours']\n",
    "\n",
    "# Covariance matrix\n",
    "cov_matrix = dataset[num_cols].cov()"
   ]
  },
  {
   "cell_type": "code",
   "execution_count": 23,
   "id": "3cabc373-7a6e-403f-8b18-bc190efa6f06",
   "metadata": {},
   "outputs": [
    {
     "data": {
      "text/html": [
       "<div>\n",
       "<style scoped>\n",
       "    .dataframe tbody tr th:only-of-type {\n",
       "        vertical-align: middle;\n",
       "    }\n",
       "\n",
       "    .dataframe tbody tr th {\n",
       "        vertical-align: top;\n",
       "    }\n",
       "\n",
       "    .dataframe thead th {\n",
       "        text-align: right;\n",
       "    }\n",
       "</style>\n",
       "<table border=\"1\" class=\"dataframe\">\n",
       "  <thead>\n",
       "    <tr style=\"text-align: right;\">\n",
       "      <th></th>\n",
       "      <th>Age</th>\n",
       "      <th>User Rating</th>\n",
       "      <th>Time Spent Hours</th>\n",
       "    </tr>\n",
       "  </thead>\n",
       "  <tbody>\n",
       "    <tr>\n",
       "      <th>Age</th>\n",
       "      <td>69.630442</td>\n",
       "      <td>1.128023</td>\n",
       "      <td>0.255254</td>\n",
       "    </tr>\n",
       "    <tr>\n",
       "      <th>User Rating</th>\n",
       "      <td>1.128023</td>\n",
       "      <td>0.842786</td>\n",
       "      <td>0.211635</td>\n",
       "    </tr>\n",
       "    <tr>\n",
       "      <th>Time Spent Hours</th>\n",
       "      <td>0.255254</td>\n",
       "      <td>0.211635</td>\n",
       "      <td>1.051063</td>\n",
       "    </tr>\n",
       "  </tbody>\n",
       "</table>\n",
       "</div>"
      ],
      "text/plain": [
       "                        Age  User Rating  Time Spent Hours\n",
       "Age               69.630442     1.128023          0.255254\n",
       "User Rating        1.128023     0.842786          0.211635\n",
       "Time Spent Hours   0.255254     0.211635          1.051063"
      ]
     },
     "execution_count": 23,
     "metadata": {},
     "output_type": "execute_result"
    }
   ],
   "source": [
    "cov_matrix"
   ]
  },
  {
   "cell_type": "markdown",
   "id": "775753ee-3a80-4949-b784-9a6c5fda398e",
   "metadata": {},
   "source": [
    "Age and User Rating: The covariance is 1.128023. \n",
    "This positive value suggests a weak positive relationship, meaning that as age increases, user ratings tend to slightly increase.\n",
    "\n",
    "Age and Time Spent Hours: The covariance is 0.255254. \n",
    "This positive value indicates a very weak positive relationship, suggesting that as age increases, time spent also tends to slightly increase.\n",
    "\n",
    "User Rating and Time Spent Hours: The covariance is 0.211635. \n",
    "This positive value suggests a very weak positive relationship, meaning that as a user rating increases, time spent tends to slightly increase."
   ]
  },
  {
   "cell_type": "code",
   "execution_count": 24,
   "id": "405196e8-d70f-4b78-9c0f-23389f525951",
   "metadata": {},
   "outputs": [
    {
     "data": {
      "text/html": [
       "<div>\n",
       "<style scoped>\n",
       "    .dataframe tbody tr th:only-of-type {\n",
       "        vertical-align: middle;\n",
       "    }\n",
       "\n",
       "    .dataframe tbody tr th {\n",
       "        vertical-align: top;\n",
       "    }\n",
       "\n",
       "    .dataframe thead th {\n",
       "        text-align: right;\n",
       "    }\n",
       "</style>\n",
       "<table border=\"1\" class=\"dataframe\">\n",
       "  <thead>\n",
       "    <tr style=\"text-align: right;\">\n",
       "      <th></th>\n",
       "      <th>Age</th>\n",
       "      <th>User Rating</th>\n",
       "      <th>Time Spent Hours</th>\n",
       "    </tr>\n",
       "  </thead>\n",
       "  <tbody>\n",
       "    <tr>\n",
       "      <th>Age</th>\n",
       "      <td>1.000000</td>\n",
       "      <td>0.147252</td>\n",
       "      <td>0.029837</td>\n",
       "    </tr>\n",
       "    <tr>\n",
       "      <th>User Rating</th>\n",
       "      <td>0.147252</td>\n",
       "      <td>1.000000</td>\n",
       "      <td>0.224861</td>\n",
       "    </tr>\n",
       "    <tr>\n",
       "      <th>Time Spent Hours</th>\n",
       "      <td>0.029837</td>\n",
       "      <td>0.224861</td>\n",
       "      <td>1.000000</td>\n",
       "    </tr>\n",
       "  </tbody>\n",
       "</table>\n",
       "</div>"
      ],
      "text/plain": [
       "                       Age  User Rating  Time Spent Hours\n",
       "Age               1.000000     0.147252          0.029837\n",
       "User Rating       0.147252     1.000000          0.224861\n",
       "Time Spent Hours  0.029837     0.224861          1.000000"
      ]
     },
     "execution_count": 24,
     "metadata": {},
     "output_type": "execute_result"
    }
   ],
   "source": [
    "corr_matrix = dataset[num_cols].corr()\n",
    "corr_matrix"
   ]
  },
  {
   "cell_type": "markdown",
   "id": "10406542-8dbb-4b7d-b8aa-4b16eab57c8d",
   "metadata": {},
   "source": [
    "Age and User Rating: The correlation is 0.147252. \n",
    "This is a very weak positive correlation, suggesting that there is almost no linear relationship between a person's age and their user rating.\n",
    "\n",
    "Age and Time Spent Hours: The correlation is 0.029837. \n",
    "This is an extremely weak positive correlation, indicating a negligible linear relationship between age and the time a person spends.\n",
    "\n",
    "User Rating and Time Spent Hours: The correlation is 0.224861. \n",
    "This represents a weak positive correlation, suggesting a slight tendency for higher user ratings to be associated with more time spent."
   ]
  },
  {
   "cell_type": "code",
   "execution_count": 25,
   "id": "7ede68a0-2bc3-43e3-a26d-b58178b293af",
   "metadata": {},
   "outputs": [
    {
     "data": {
      "image/png": "[encoded data removed]",
      "text/plain": [
       "<Figure size 600x400 with 2 Axes>"
      ]
     },
     "metadata": {},
     "output_type": "display_data"
    }
   ],
   "source": [
    "# Heatmap visualization\n",
    "import seaborn as sns\n",
    "import matplotlib.pyplot as plt\n",
    "\n",
    "plt.figure(figsize=(6,4))\n",
    "sns.heatmap(corr_matrix, annot=True, cmap='coolwarm', center=0)\n",
    "plt.title(\"Correlation Heatmap\")\n",
    "plt.show()"
   ]
  },
  {
   "cell_type": "markdown",
   "id": "3969fb37-36cd-4185-b98c-324e78769f15",
   "metadata": {},
   "source": [
    "Age and User Rating: The correlation coefficient is 0.15. \n",
    "This indicates a very weak positive correlation between age and user rating. \n",
    "This suggests that as age increases, user ratings tend to slightly increase, but the relationship is not strong.\n",
    "\n",
    "Age and Time Spent Hours: The correlation coefficient is 0.03. \n",
    "This is an extremely weak positive correlation, indicating a negligible linear relationship between age and the time a person spends. \n",
    "This means that a person's age is not a good predictor of how much time they will spend.\n",
    "\n",
    "User Rating and Time Spent Hours: The correlation coefficient is 0.22. \n",
    "This represents a weak positive correlation, suggesting a slight tendency for higher user ratings to be associated with more time spent."
   ]
  },
  {
   "cell_type": "markdown",
   "id": "8ee3717e-ea02-4e54-a422-e8f2e202a264",
   "metadata": {},
   "source": [
    "<span style=\"color: red; font-size: 20px;\">t-Test — Compare Means of Two Groups</span>"
   ]
  },
  {
   "cell_type": "code",
   "execution_count": 26,
   "id": "863aa0a5-5f51-4a47-8064-e8f526819260",
   "metadata": {},
   "outputs": [
    {
     "name": "stdout",
     "output_type": "stream",
     "text": [
      "T-statistic: -0.373, P-value: 0.710\n"
     ]
    }
   ],
   "source": [
    "from scipy.stats import ttest_ind\n",
    "\n",
    "group1 = dataset[dataset['Gender'] == 0]['Time Spent Hours']   # Example: Male\n",
    "group2 = dataset[dataset['Gender'] == 1]['Time Spent Hours']   # Example: Female\n",
    "\n",
    "t_stat, p_val = ttest_ind(group1, group2, equal_var=False)\n",
    "print(f\"T-statistic: {t_stat:.3f}, P-value: {p_val:.3f}\")"
   ]
  },
  {
   "cell_type": "markdown",
   "id": "59e90caa-fbf3-4de6-918e-4fdc06642863",
   "metadata": {},
   "source": [
    "P Value is greater than 0.05\n",
    "Hence accept null hypothesis & reject alternate hypothesis\n",
    "There is no significant similarity between gender and time spent hours"
   ]
  },
  {
   "cell_type": "markdown",
   "id": "657627df-a336-4eac-9faf-18a76dcf12fc",
   "metadata": {},
   "source": [
    "<span style=\"color: red; font-size: 20px;\">VIF — Check Multicollinearity (Variance Inflation Factor)</span>"
   ]
  },
  {
   "cell_type": "code",
   "execution_count": 27,
   "id": "24be99ff-486c-4b4f-9248-3315cbb0ad94",
   "metadata": {},
   "outputs": [],
   "source": [
    "from statsmodels.stats.outliers_influence import variance_inflation_factor\n",
    "\n",
    "def calc_vif(X):\n",
    "\n",
    "    # Calculating VIF\n",
    "    vif = pd.DataFrame()\n",
    "    vif[\"variables\"] = X.columns\n",
    "    vif[\"VIF\"] = [variance_inflation_factor(X.values, i) for i in range(X.shape[1])]\n",
    "\n",
    "    return(vif)"
   ]
  },
  {
   "cell_type": "code",
   "execution_count": 28,
   "id": "707f66a8-5c74-4850-92a2-93027fb2e2b9",
   "metadata": {},
   "outputs": [
    {
     "data": {
      "text/html": [
       "<div>\n",
       "<style scoped>\n",
       "    .dataframe tbody tr th:only-of-type {\n",
       "        vertical-align: middle;\n",
       "    }\n",
       "\n",
       "    .dataframe tbody tr th {\n",
       "        vertical-align: top;\n",
       "    }\n",
       "\n",
       "    .dataframe thead th {\n",
       "        text-align: right;\n",
       "    }\n",
       "</style>\n",
       "<table border=\"1\" class=\"dataframe\">\n",
       "  <thead>\n",
       "    <tr style=\"text-align: right;\">\n",
       "      <th></th>\n",
       "      <th>variables</th>\n",
       "      <th>VIF</th>\n",
       "    </tr>\n",
       "  </thead>\n",
       "  <tbody>\n",
       "    <tr>\n",
       "      <th>0</th>\n",
       "      <td>Time Spent Hours</td>\n",
       "      <td>2.369310</td>\n",
       "    </tr>\n",
       "    <tr>\n",
       "      <th>1</th>\n",
       "      <td>Age</td>\n",
       "      <td>10.938873</td>\n",
       "    </tr>\n",
       "    <tr>\n",
       "      <th>2</th>\n",
       "      <td>User Rating</td>\n",
       "      <td>12.282442</td>\n",
       "    </tr>\n",
       "  </tbody>\n",
       "</table>\n",
       "</div>"
      ],
      "text/plain": [
       "          variables        VIF\n",
       "0  Time Spent Hours   2.369310\n",
       "1               Age  10.938873\n",
       "2       User Rating  12.282442"
      ]
     },
     "execution_count": 28,
     "metadata": {},
     "output_type": "execute_result"
    }
   ],
   "source": [
    "calc_vif(dataset[[\"Time Spent Hours\",\"Age\",\"User Rating\"]])"
   ]
  },
  {
   "cell_type": "code",
   "execution_count": 29,
   "id": "1fa479b7-e34a-4412-b5e0-2dbc383eac54",
   "metadata": {},
   "outputs": [
    {
     "data": {
      "text/html": [
       "<div>\n",
       "<style scoped>\n",
       "    .dataframe tbody tr th:only-of-type {\n",
       "        vertical-align: middle;\n",
       "    }\n",
       "\n",
       "    .dataframe tbody tr th {\n",
       "        vertical-align: top;\n",
       "    }\n",
       "\n",
       "    .dataframe thead th {\n",
       "        text-align: right;\n",
       "    }\n",
       "</style>\n",
       "<table border=\"1\" class=\"dataframe\">\n",
       "  <thead>\n",
       "    <tr style=\"text-align: right;\">\n",
       "      <th></th>\n",
       "      <th>variables</th>\n",
       "      <th>VIF</th>\n",
       "    </tr>\n",
       "  </thead>\n",
       "  <tbody>\n",
       "    <tr>\n",
       "      <th>0</th>\n",
       "      <td>Time Spent Hours</td>\n",
       "      <td>2.110107</td>\n",
       "    </tr>\n",
       "    <tr>\n",
       "      <th>1</th>\n",
       "      <td>Age</td>\n",
       "      <td>2.110107</td>\n",
       "    </tr>\n",
       "  </tbody>\n",
       "</table>\n",
       "</div>"
      ],
      "text/plain": [
       "          variables       VIF\n",
       "0  Time Spent Hours  2.110107\n",
       "1               Age  2.110107"
      ]
     },
     "execution_count": 29,
     "metadata": {},
     "output_type": "execute_result"
    }
   ],
   "source": [
    "calc_vif(dataset[[\"Time Spent Hours\",\"Age\"]])"
   ]
  },
  {
   "cell_type": "code",
   "execution_count": 30,
   "id": "fe95256b-54e1-4aeb-8e66-b7e408b5a236",
   "metadata": {},
   "outputs": [
    {
     "data": {
      "text/html": [
       "<div>\n",
       "<style scoped>\n",
       "    .dataframe tbody tr th:only-of-type {\n",
       "        vertical-align: middle;\n",
       "    }\n",
       "\n",
       "    .dataframe tbody tr th {\n",
       "        vertical-align: top;\n",
       "    }\n",
       "\n",
       "    .dataframe thead th {\n",
       "        text-align: right;\n",
       "    }\n",
       "</style>\n",
       "<table border=\"1\" class=\"dataframe\">\n",
       "  <thead>\n",
       "    <tr style=\"text-align: right;\">\n",
       "      <th></th>\n",
       "      <th>variables</th>\n",
       "      <th>VIF</th>\n",
       "    </tr>\n",
       "  </thead>\n",
       "  <tbody>\n",
       "    <tr>\n",
       "      <th>0</th>\n",
       "      <td>Age</td>\n",
       "      <td>10.93874</td>\n",
       "    </tr>\n",
       "    <tr>\n",
       "      <th>1</th>\n",
       "      <td>User Rating</td>\n",
       "      <td>10.93874</td>\n",
       "    </tr>\n",
       "  </tbody>\n",
       "</table>\n",
       "</div>"
      ],
      "text/plain": [
       "     variables       VIF\n",
       "0          Age  10.93874\n",
       "1  User Rating  10.93874"
      ]
     },
     "execution_count": 30,
     "metadata": {},
     "output_type": "execute_result"
    }
   ],
   "source": [
    "calc_vif(dataset[[\"Age\",\"User Rating\"]])"
   ]
  },
  {
   "cell_type": "code",
   "execution_count": 31,
   "id": "2bd62c51-72ee-4268-b0ee-4cbfbd849e6c",
   "metadata": {},
   "outputs": [
    {
     "data": {
      "text/html": [
       "<div>\n",
       "<style scoped>\n",
       "    .dataframe tbody tr th:only-of-type {\n",
       "        vertical-align: middle;\n",
       "    }\n",
       "\n",
       "    .dataframe tbody tr th {\n",
       "        vertical-align: top;\n",
       "    }\n",
       "\n",
       "    .dataframe thead th {\n",
       "        text-align: right;\n",
       "    }\n",
       "</style>\n",
       "<table border=\"1\" class=\"dataframe\">\n",
       "  <thead>\n",
       "    <tr style=\"text-align: right;\">\n",
       "      <th></th>\n",
       "      <th>variables</th>\n",
       "      <th>VIF</th>\n",
       "    </tr>\n",
       "  </thead>\n",
       "  <tbody>\n",
       "    <tr>\n",
       "      <th>0</th>\n",
       "      <td>Time Spent Hours</td>\n",
       "      <td>2.369281</td>\n",
       "    </tr>\n",
       "    <tr>\n",
       "      <th>1</th>\n",
       "      <td>User Rating</td>\n",
       "      <td>2.369281</td>\n",
       "    </tr>\n",
       "  </tbody>\n",
       "</table>\n",
       "</div>"
      ],
      "text/plain": [
       "          variables       VIF\n",
       "0  Time Spent Hours  2.369281\n",
       "1       User Rating  2.369281"
      ]
     },
     "execution_count": 31,
     "metadata": {},
     "output_type": "execute_result"
    }
   ],
   "source": [
    "calc_vif(dataset[[\"Time Spent Hours\",\"User Rating\"]])"
   ]
  },
  {
   "cell_type": "markdown",
   "id": "14315af1-5b03-4484-aa96-7e354afd2e3f",
   "metadata": {},
   "source": [
    "The primary issue of multicollinearity exists between the Age and User Rating variables. \n",
    "This strong relationship between these two variables.\n",
    "It could make difficult to determine the independent effect of each variable on a dependent variable in a regression model."
   ]
  },
  {
   "cell_type": "markdown",
   "id": "3f430f14-c3c7-4264-b34e-11b72456bc4e",
   "metadata": {},
   "source": [
    "<span style=\"color: red; font-size: 20px;\">ANOVA (Analysis of Variance)</span>"
   ]
  },
  {
   "cell_type": "code",
   "execution_count": 32,
   "id": "0d170bb6-15ea-4cbd-a276-79390a101397",
   "metadata": {},
   "outputs": [
    {
     "data": {
      "text/plain": [
       "F_onewayResult(statistic=1255.859322421766, pvalue=3.491831637683279e-154)"
      ]
     },
     "execution_count": 32,
     "metadata": {},
     "output_type": "execute_result"
    }
   ],
   "source": [
    "import scipy.stats as stats\n",
    "\n",
    "stats.f_oneway(dataset['Time Spent Hours'],dataset['User Rating'],dataset['Age'])"
   ]
  },
  {
   "cell_type": "markdown",
   "id": "9cef35e5-6a73-450f-8f09-8ca5d66dc856",
   "metadata": {},
   "source": [
    "If p-value < 0.05, that factor has a significant effect.\n",
    "If p-value > 0.05, there’s no significant effect.\n",
    "#p value is more than 0.05\n",
    "#Hence accept Null hypothesis and Reject Alternate hypothsis\n",
    "#H0- There is no similarity between Time Spent Hours, User Rating & Age. \n",
    "#H1- There is similarity between Time Spent Hours, User Rating & Age."
   ]
  },
  {
   "cell_type": "code",
   "execution_count": null,
   "id": "b9e16b6e-1476-4812-b532-343d9ef31c58",
   "metadata": {},
   "outputs": [],
   "source": []
  }
 ],
 "metadata": {
  "kernelspec": {
   "display_name": "Python 3 (ipykernel)",
   "language": "python",
   "name": "python3"
  },
  "language_info": {
   "codemirror_mode": {
    "name": "ipython",
    "version": 3
   },
   "file_extension": ".py",
   "mimetype": "text/x-python",
   "name": "python",
   "nbconvert_exporter": "python",
   "pygments_lexer": "ipython3",
   "version": "3.12.9"
  }
 },
 "nbformat": 4,
 "nbformat_minor": 5
}
